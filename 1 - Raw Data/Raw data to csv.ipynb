{
 "cells": [
  {
   "cell_type": "markdown",
   "id": "65466183-9640-4ca8-9349-eb7a7665cae2",
   "metadata": {},
   "source": [
    "CME538 - Introduction to Data Science\n",
    "Big Project \n",
    "\n",
    "The purpose of the following code is to extract the data from a MS AccessData Base into smaller CSVs for their differnt folders.\n"
   ]
  },
  {
   "cell_type": "code",
   "execution_count": null,
   "id": "d2a96b0b-54fa-4683-874b-41a2475bd5f4",
   "metadata": {},
   "outputs": [
    {
     "name": "stdout",
     "output_type": "stream",
     "text": [
      "Processing Deliv_PLACE...\n"
     ]
    },
    {
     "name": "stderr",
     "output_type": "stream",
     "text": [
      "C:\\Users\\17052\\AppData\\Local\\Temp\\ipykernel_9020\\580503628.py:30: UserWarning: pandas only supports SQLAlchemy connectable (engine/connection) or database string URI or sqlite3 DBAPI2 connection. Other DBAPI2 objects are not tested. Please consider using SQLAlchemy.\n",
      "  df = pd.read_sql(query, access_conn)\n"
     ]
    },
    {
     "name": "stdout",
     "output_type": "stream",
     "text": [
      "Processing Deliv_ACTIVITY...\n",
      "Processing Deliv_HH...\n",
      "Processing Deliv_LD...\n",
      "Processing Deliv_PER...\n",
      "Processing Deliv_HH...\n",
      "Processing Deliv_VEH...\n"
     ]
    }
   ],
   "source": [
    "import pyodbc\n",
    "import pandas as pd\n",
    "\n",
    "# Get the current directory where the script is located\n",
    "current_dir = os.getcwd()\n",
    "\n",
    "# Path to your Access database relative to the script directory\n",
    "db_path = os.path.join(current_dir, \"CHTS_raw_caltrans_db.accdb\")\n",
    "\n",
    "# Connection string\n",
    "conn_str = (\n",
    "    r'DRIVER={Microsoft Access Driver (*.mdb, *.accdb)};'\n",
    "    r'DBQ=' + db_path + ';'\n",
    ")\n",
    "\n",
    "# Connect to MS Access\n",
    "access_conn = pyodbc.connect(conn_str)\n",
    "access_cursor = access_conn.cursor()\n",
    "\n",
    "# List of tables to export\n",
    "tables = ['Deliv_PLACE', 'Deliv_ACTIVITY', 'Deliv_HH', 'Deliv_LD', 'Deliv_PER', 'Deliv_VEH']  \n",
    "\n",
    "# Loop through each table and export data to CSV\n",
    "for table in tables:\n",
    "    print(f\"Processing {table}...\")\n",
    "\n",
    "    # Query to select all data from the current table\n",
    "    query = f\"SELECT * FROM {table}\"\n",
    "    df = pd.read_sql(query, access_conn)\n",
    "\n",
    "    # Save the data to a CSV file, using the table name as the file name\n",
    "    csv_filename = f\"{table}.csv\"\n",
    "    df.to_csv(csv_filename, index=False)  # Export to CSV without the index\n",
    "\n",
    "\n",
    "# Close the connection\n",
    "access_conn.close()"
   ]
  }
 ],
 "metadata": {
  "kernelspec": {
   "display_name": "Python 3 (ipykernel)",
   "language": "python",
   "name": "python3"
  },
  "language_info": {
   "codemirror_mode": {
    "name": "ipython",
    "version": 3
   },
   "file_extension": ".py",
   "mimetype": "text/x-python",
   "name": "python",
   "nbconvert_exporter": "python",
   "pygments_lexer": "ipython3",
   "version": "3.12.4"
  }
 },
 "nbformat": 4,
 "nbformat_minor": 5
}

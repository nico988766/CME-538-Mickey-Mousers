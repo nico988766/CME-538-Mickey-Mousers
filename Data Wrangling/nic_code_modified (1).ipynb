{
 "cells": [
  {
   "cell_type": "code",
   "execution_count": 2,
   "metadata": {},
   "outputs": [],
   "source": [
    "# Import 3rd party libraries\n",
    "import numpy as np\n",
    "import pandas as pd\n",
    "import seaborn as sns\n",
    "import matplotlib.pyplot as plt\n",
    "\n",
    "# Configure Notebook\n",
    "%matplotlib inline\n",
    "plt.style.use('fivethirtyeight')\n",
    "sns.set_context(\"notebook\")\n",
    "import warnings\n",
    "warnings.filterwarnings('ignore')"
   ]
  },
  {
   "cell_type": "code",
   "execution_count": 3,
   "metadata": {},
   "outputs": [
    {
     "data": {
      "text/html": [
       "<div>\n",
       "<style scoped>\n",
       "    .dataframe tbody tr th:only-of-type {\n",
       "        vertical-align: middle;\n",
       "    }\n",
       "\n",
       "    .dataframe tbody tr th {\n",
       "        vertical-align: top;\n",
       "    }\n",
       "\n",
       "    .dataframe thead th {\n",
       "        text-align: right;\n",
       "    }\n",
       "</style>\n",
       "<table border=\"1\" class=\"dataframe\">\n",
       "  <thead>\n",
       "    <tr style=\"text-align: right;\">\n",
       "      <th></th>\n",
       "      <th>SAMPN</th>\n",
       "      <th>PERNO</th>\n",
       "      <th>PLANO</th>\n",
       "      <th>TOTTR</th>\n",
       "      <th>HHMEM</th>\n",
       "      <th>PER1</th>\n",
       "      <th>PER2</th>\n",
       "      <th>PER3</th>\n",
       "      <th>PER4</th>\n",
       "      <th>PER5</th>\n",
       "      <th>...</th>\n",
       "      <th>VEHDRT</th>\n",
       "      <th>O_VEHDRT</th>\n",
       "      <th>VEHCYL</th>\n",
       "      <th>O_VEHCYL</th>\n",
       "      <th>VEHOUT</th>\n",
       "      <th>VEHVLT</th>\n",
       "      <th>VEHT</th>\n",
       "      <th>CNTV</th>\n",
       "      <th>WYCNTV</th>\n",
       "      <th>O_WYCNTV</th>\n",
       "    </tr>\n",
       "  </thead>\n",
       "  <tbody>\n",
       "    <tr>\n",
       "      <th>0</th>\n",
       "      <td>1031985.0</td>\n",
       "      <td>1.0</td>\n",
       "      <td>1.0</td>\n",
       "      <td>NaN</td>\n",
       "      <td>NaN</td>\n",
       "      <td>NaN</td>\n",
       "      <td>NaN</td>\n",
       "      <td>NaN</td>\n",
       "      <td>NaN</td>\n",
       "      <td>NaN</td>\n",
       "      <td>...</td>\n",
       "      <td>NaN</td>\n",
       "      <td>NaN</td>\n",
       "      <td>NaN</td>\n",
       "      <td>NaN</td>\n",
       "      <td>NaN</td>\n",
       "      <td>NaN</td>\n",
       "      <td>NaN</td>\n",
       "      <td>NaN</td>\n",
       "      <td>NaN</td>\n",
       "      <td>NaN</td>\n",
       "    </tr>\n",
       "    <tr>\n",
       "      <th>1</th>\n",
       "      <td>1031985.0</td>\n",
       "      <td>1.0</td>\n",
       "      <td>2.0</td>\n",
       "      <td>2.0</td>\n",
       "      <td>0.0</td>\n",
       "      <td>NaN</td>\n",
       "      <td>NaN</td>\n",
       "      <td>NaN</td>\n",
       "      <td>NaN</td>\n",
       "      <td>NaN</td>\n",
       "      <td>...</td>\n",
       "      <td>NaN</td>\n",
       "      <td>NaN</td>\n",
       "      <td>NaN</td>\n",
       "      <td>NaN</td>\n",
       "      <td>NaN</td>\n",
       "      <td>NaN</td>\n",
       "      <td>NaN</td>\n",
       "      <td>NaN</td>\n",
       "      <td>NaN</td>\n",
       "      <td>NaN</td>\n",
       "    </tr>\n",
       "    <tr>\n",
       "      <th>2</th>\n",
       "      <td>1031985.0</td>\n",
       "      <td>1.0</td>\n",
       "      <td>3.0</td>\n",
       "      <td>2.0</td>\n",
       "      <td>0.0</td>\n",
       "      <td>NaN</td>\n",
       "      <td>NaN</td>\n",
       "      <td>NaN</td>\n",
       "      <td>NaN</td>\n",
       "      <td>NaN</td>\n",
       "      <td>...</td>\n",
       "      <td>NaN</td>\n",
       "      <td>NaN</td>\n",
       "      <td>NaN</td>\n",
       "      <td>NaN</td>\n",
       "      <td>NaN</td>\n",
       "      <td>NaN</td>\n",
       "      <td>NaN</td>\n",
       "      <td>NaN</td>\n",
       "      <td>NaN</td>\n",
       "      <td>NaN</td>\n",
       "    </tr>\n",
       "    <tr>\n",
       "      <th>3</th>\n",
       "      <td>1031985.0</td>\n",
       "      <td>2.0</td>\n",
       "      <td>1.0</td>\n",
       "      <td>NaN</td>\n",
       "      <td>NaN</td>\n",
       "      <td>NaN</td>\n",
       "      <td>NaN</td>\n",
       "      <td>NaN</td>\n",
       "      <td>NaN</td>\n",
       "      <td>NaN</td>\n",
       "      <td>...</td>\n",
       "      <td>NaN</td>\n",
       "      <td>NaN</td>\n",
       "      <td>NaN</td>\n",
       "      <td>NaN</td>\n",
       "      <td>NaN</td>\n",
       "      <td>NaN</td>\n",
       "      <td>NaN</td>\n",
       "      <td>NaN</td>\n",
       "      <td>NaN</td>\n",
       "      <td>NaN</td>\n",
       "    </tr>\n",
       "    <tr>\n",
       "      <th>4</th>\n",
       "      <td>1031985.0</td>\n",
       "      <td>2.0</td>\n",
       "      <td>2.0</td>\n",
       "      <td>1.0</td>\n",
       "      <td>0.0</td>\n",
       "      <td>NaN</td>\n",
       "      <td>NaN</td>\n",
       "      <td>NaN</td>\n",
       "      <td>NaN</td>\n",
       "      <td>NaN</td>\n",
       "      <td>...</td>\n",
       "      <td>NaN</td>\n",
       "      <td>NaN</td>\n",
       "      <td>NaN</td>\n",
       "      <td>NaN</td>\n",
       "      <td>NaN</td>\n",
       "      <td>NaN</td>\n",
       "      <td>NaN</td>\n",
       "      <td>NaN</td>\n",
       "      <td>NaN</td>\n",
       "      <td>NaN</td>\n",
       "    </tr>\n",
       "  </tbody>\n",
       "</table>\n",
       "<p>5 rows × 362 columns</p>\n",
       "</div>"
      ],
      "text/plain": [
       "       SAMPN  PERNO  PLANO  TOTTR  HHMEM  PER1  PER2  PER3  PER4  PER5  ...  \\\n",
       "0  1031985.0    1.0    1.0    NaN    NaN   NaN   NaN   NaN   NaN   NaN  ...   \n",
       "1  1031985.0    1.0    2.0    2.0    0.0   NaN   NaN   NaN   NaN   NaN  ...   \n",
       "2  1031985.0    1.0    3.0    2.0    0.0   NaN   NaN   NaN   NaN   NaN  ...   \n",
       "3  1031985.0    2.0    1.0    NaN    NaN   NaN   NaN   NaN   NaN   NaN  ...   \n",
       "4  1031985.0    2.0    2.0    1.0    0.0   NaN   NaN   NaN   NaN   NaN  ...   \n",
       "\n",
       "   VEHDRT  O_VEHDRT  VEHCYL  O_VEHCYL  VEHOUT VEHVLT VEHT  CNTV  WYCNTV  \\\n",
       "0     NaN       NaN     NaN       NaN     NaN    NaN  NaN   NaN     NaN   \n",
       "1     NaN       NaN     NaN       NaN     NaN    NaN  NaN   NaN     NaN   \n",
       "2     NaN       NaN     NaN       NaN     NaN    NaN  NaN   NaN     NaN   \n",
       "3     NaN       NaN     NaN       NaN     NaN    NaN  NaN   NaN     NaN   \n",
       "4     NaN       NaN     NaN       NaN     NaN    NaN  NaN   NaN     NaN   \n",
       "\n",
       "   O_WYCNTV  \n",
       "0       NaN  \n",
       "1       NaN  \n",
       "2       NaN  \n",
       "3       NaN  \n",
       "4       NaN  \n",
       "\n",
       "[5 rows x 362 columns]"
      ]
     },
     "execution_count": 3,
     "metadata": {},
     "output_type": "execute_result"
    }
   ],
   "source": [
    "full_df = pd.read_csv('alldata.csv')\n",
    "full_df.head()"
   ]
  },
  {
   "cell_type": "markdown",
   "metadata": {},
   "source": [
    "The dataset is extensive even without including the date-time and API data:"
   ]
  },
  {
   "cell_type": "code",
   "execution_count": 4,
   "metadata": {},
   "outputs": [
    {
     "name": "stdout",
     "output_type": "stream",
     "text": [
      "<class 'pandas.core.frame.DataFrame'>\n",
      "RangeIndex: 1406413 entries, 0 to 1406412\n",
      "Columns: 362 entries, SAMPN to O_WYCNTV\n",
      "dtypes: float64(283), object(79)\n",
      "memory usage: 3.8+ GB\n"
     ]
    }
   ],
   "source": [
    "full_df.info()"
   ]
  },
  {
   "cell_type": "code",
   "execution_count": 5,
   "metadata": {},
   "outputs": [
    {
     "name": "stdout",
     "output_type": "stream",
     "text": [
      "['SAMPN', 'PERNO', 'PLANO', 'TOTTR', 'HHMEM', 'PER1', 'PER2', 'PER3', 'PER4', 'PER5', 'NONHH', 'MODE', 'VEHNO', 'DYGOV', 'PRKTY', 'O_PRKTY', 'PXSTR', 'PRKMIN', 'PAYPK', 'PKAMT', 'PKUNT', 'PRKHW', 'O_PRKHW', 'EMPARK', 'TRANSYS', 'O_TRANSYS', 'ROUTE', 'ACTCNT', 'ARR_HR', 'ARR_MIN', 'DEP_HR', 'DEP_MIN', 'TRIPDUR', 'ACTDUR', 'PNAME', 'CITY', 'STATE', 'ZIP', 'TripDistance', 'TripDistanceFlag', 'AirTripDistance', 'CTFIP', 'TRACT', 'PPrimaryCity', 'PSTFIP', 'PERWGT', 'EXPPERWGT', 'TRIPNO', 'TCF', 'TCFPERWGT', 'EXPTCFPERWGT', 'ACTNO', 'ACTOTH', 'ACTHH', 'ACTOR', 'ACTWK', 'ACTSC', 'ACTRG', 'ACTFR', 'ACTOT', 'APURP', 'O_APURP', 'STIME', 'ETIME', 'RECMODE', 'RETMODE', 'INCEN', 'ILANG', 'AREA', 'STRATA', 'STYPE', 'CEC', 'GTYPE', 'GFLAG', 'RIBUS', 'HHVEH', 'HHBIC', 'VEHNEW', 'BUYER1', 'BUYER2', 'BUYER3', 'BUYER4', 'BUYER5', 'BUYER6', 'BUYER7', 'BUYER8', 'RESTY', 'O_RESTY', 'OWN', 'O_OWN', 'TEN', 'PREVCITY', 'PREVSTAT', 'PREVZIP', 'PHLNS', 'INCOM', 'HHSIZ', 'NONRELAT', 'HHEMP', 'HHSTU', 'HHLIC', 'RECDate', 'ASSN', 'DOW', 'HTRIPS', 'HCITY', 'HSTAT', 'HZIP', 'HHNOV1', 'HHNOV2', 'HHNOV3', 'HHNOV4', 'HHNOV5', 'HHNOV6', 'HHNOV7', 'HHNOV8', 'VEHOP', 'VEHPR', 'VEDTE', 'CMPLD', 'LDPER1', 'LDPER2', 'LDPER3', 'LDPER4', 'LDPER5', 'LDPER6', 'LDPER7', 'LDPER8', 'LDTRP', 'LDFlag', 'HPFlag', 'HH_Complete', 'GPS_Complete', 'HCTRACT', 'HPrimaryCity', 'HSTFIP', 'MTC_FInalFlag', 'HHWGT', 'EXPHHWGT', 'GPS_MTC', 'LDNO', 'LDDAT', 'LDORG', 'LDOPNM', 'LDOCITY', 'LDOST', 'LDOZIP', 'LDOCNTR', 'LDDPNM', 'LDDCITY', 'LDDST', 'LDDZIP', 'LDDCNTR', 'LDTPURP', 'O_LDTPUPR', 'LDWHO', 'LDMHH', 'LDINI1', 'LDINI2', 'LDINI3', 'LDINI4', 'LDINI5', 'LDINI6', 'LDINI7', 'LDINI8', 'LDMODE1', 'LDMODE2', 'LDMODE3', 'LDMODE4', 'MAXDATE', 'LDTIM', 'LDDPPNM', 'LDDPMODE1', 'LDDPMODE2', 'LDDPMODE3', 'LDDPMODE4', 'LDARPNM', 'LDARMODE1', 'LDARMODE2', 'LDARMODE3', 'LDARMODE4', 'LDDCTFIP', 'LDOCTFIP', 'LDDCTRACT', 'LDOCTRACT', 'ReturnHomeTripFlag', 'LDOPrimaryCity', 'LDOSTFIP', 'LDDPrimaryCity', 'LDDSTFIP', 'ID', 'RELAT', 'GEND', 'AGE', 'AGEB', 'HISP', 'RACE1', 'RACE2', 'RACE3', 'RACE4', 'O_RACE', 'NTVTY', 'CNTRY', 'LIC', 'USER', 'TRANS', 'TPTYP1', 'TPTYP2', 'TPTYP3', 'TPTYP4', 'TPTYP5', 'TPTYP6', 'TPTYP7', 'O_TPTYP', 'CLIP1', 'CLIP2', 'CLIP3', 'COMP', 'MET', 'PASSTL', 'FLEX', 'EMPLY', 'WKSTAT', 'O_WKSTAT', 'JOBS', 'WLOC', 'WNAME', 'WCITY', 'WSTAT', 'WZIP', 'WXST1', 'WXST2', 'WXCORD', 'WYCORD', 'WDAYS', 'WDAY1', 'WDAY2', 'WDAY3', 'WDAY4', 'WDAY5', 'WDAY6', 'WDAY7', 'HOURS', 'WSCHED', 'COMPR', 'WMODE', 'INDUS', 'O_INDUS', 'OCCUP', 'O_OCCUP', 'WLOC2', 'WNAME2', 'WCITY2', 'WSTAT2', 'WZIP2', 'WXST2_1', 'WXST2_2', 'WDAYS2', 'DISAB', 'DTYPE1', 'DTYPE2', 'DTYPE3', 'DTYPE4', 'DTYPE5', 'DTYPE6', 'DTYPE7', 'O_DTYPE', 'DSLIC', 'EDIS', 'TTRIP', 'TRNSUB', 'SUBAMT', 'SUBUNT', 'O_SUBUNT', 'WTRIP', 'BTRIP', 'STUDE', 'SCHOL', 'O_SCHOL', 'SLOC', 'SONLN', 'PRESCH', 'O_PRESCH', 'SNAME', 'SCITY', 'SSTAT', 'SZIP', 'SXST1', 'SXST2', 'SXCORD', 'SYCORD', 'SMODE', 'EDUCA', 'O_EDUCA', 'INTRV', 'PROXY', 'CMPLG', 'HVLOG', 'PTRIPS', 'TOLLF', 'TOLLR1', 'TOLLR2', 'TOLLR3', 'TOLLR4', 'TOLLR5', 'TOLLR6', 'TOLLR7', 'TOLLR8', 'TOLLR9', 'TOLLR10', 'TOLLB1', 'TOLLB2', 'TOLLB3', 'TOLLB4', 'TOLLB5', 'TOLLB6', 'TOLLB7', 'TOLLB8', 'TOLLB9', 'TOLLB10', 'HOVL', 'NOGOWHY', 'NOGOWHY_O', 'InComplete', 'Moto_trip', 'WCTFIP', 'WTRACT', 'SCTFIP', 'STRACT', 'WPrimaryCity', 'WSTFIP', 'W2PrimaryCity', 'W2STFIP', 'SPrimaryCity', 'SSTFIP', 'YEAR', 'BODY', 'O_BODY', 'FUELT1', 'FUELT2', 'FUELT3', 'FUELT4', 'FUELT5', 'FUELT6', 'O_FUELT', 'CIGLT', 'VEHAQ', 'VEHOWN', 'O_VEHOWN', 'VEHINS', 'VEHOBD', 'VEHTRN', 'VEHDRT', 'O_VEHDRT', 'VEHCYL', 'O_VEHCYL', 'VEHOUT', 'VEHVLT', 'VEHT', 'CNTV', 'WYCNTV', 'O_WYCNTV']\n"
     ]
    }
   ],
   "source": [
    "column_names = full_df.columns.tolist()\n",
    "print(column_names)"
   ]
  },
  {
   "cell_type": "markdown",
   "metadata": {},
   "source": [
    "Drop columns related to long-distance trips, as our focus is on daily trips; including long-distance trips could introduce outliers and negatively impact model predictions. To safeguard the original data, we created a separate variable to store the modified DataFrame, allowing easy rollback if needed."
   ]
  },
  {
   "cell_type": "markdown",
   "metadata": {},
   "source": [
    "Now, drop columns that are entirely empty, as these were optional survey responses with no data provided."
   ]
  },
  {
   "cell_type": "code",
   "execution_count": 6,
   "metadata": {},
   "outputs": [
    {
     "name": "stdout",
     "output_type": "stream",
     "text": [
      "Columns dropped (more than 99% missing values):\n",
      "['O_PRKTY', 'PKAMT', 'PKUNT', 'PRKHW', 'O_PRKHW', 'EMPARK', 'O_TRANSYS', 'CEC', 'BUYER3', 'BUYER4', 'BUYER5', 'BUYER6', 'BUYER7', 'BUYER8', 'O_RESTY', 'O_OWN', 'HHNOV2', 'HHNOV3', 'HHNOV4', 'HHNOV5', 'HHNOV6', 'HHNOV7', 'HHNOV8', 'LDPER2', 'LDPER3', 'LDPER4', 'LDPER5', 'LDPER6', 'LDPER7', 'LDPER8', 'O_LDTPUPR', 'LDINI2', 'LDINI3', 'LDINI4', 'LDINI5', 'LDINI6', 'LDINI7', 'LDINI8', 'LDMODE2', 'LDMODE3', 'LDMODE4', 'LDDPMODE2', 'LDDPMODE3', 'LDDPMODE4', 'LDARMODE2', 'LDARMODE3', 'LDARMODE4', 'RACE3', 'RACE4', 'TPTYP2', 'TPTYP3', 'TPTYP4', 'TPTYP5', 'TPTYP6', 'TPTYP7', 'CLIP2', 'CLIP3', 'COMP', 'MET', 'O_WKSTAT', 'O_INDUS', 'O_OCCUP', 'WXST2_1', 'WXST2_2', 'DTYPE3', 'DTYPE4', 'DTYPE5', 'DTYPE6', 'DTYPE7', 'O_SUBUNT', 'O_SCHOL', 'PRESCH', 'O_PRESCH', 'O_EDUCA', 'TOLLR1', 'TOLLR2', 'TOLLR3', 'TOLLR4', 'TOLLR5', 'TOLLR6', 'TOLLR7', 'TOLLR8', 'TOLLR9', 'TOLLR10', 'TOLLB1', 'TOLLB2', 'TOLLB3', 'TOLLB4', 'TOLLB5', 'TOLLB6', 'TOLLB7', 'TOLLB8', 'TOLLB9', 'TOLLB10', 'NOGOWHY_O', 'InComplete', 'O_BODY', 'FUELT3', 'FUELT4', 'FUELT5', 'FUELT6', 'O_FUELT', 'O_VEHOWN', 'O_VEHDRT', 'O_VEHCYL', 'O_WYCNTV']\n",
      "# of columns dropped: 106\n"
     ]
    }
   ],
   "source": [
    "# Define the threshold for missing values\n",
    "missing_value_threshold = 99.9\n",
    "\n",
    "# Identify columns with more than 99% missing values in full_df\n",
    "missing_percentage = full_df.isnull().mean() * 100  # Calculate the percentage of missing values\n",
    "columns_to_drop = missing_percentage[missing_percentage > missing_value_threshold].index.tolist()\n",
    "\n",
    "# Drop the identified columns from full_df\n",
    "mod_df = full_df.drop(columns=columns_to_drop)\n",
    "\n",
    "# Output the list of columns that were dropped\n",
    "print(\"Columns dropped (more than 99% missing values):\")\n",
    "print(columns_to_drop)\n",
    "print(\"# of columns dropped: {}\".format(len(columns_to_drop)))"
   ]
  },
  {
   "cell_type": "markdown",
   "metadata": {},
   "source": [
    "Before cleaning & organizing the data further, we need to combine the \"ASSN_TravelDate.csv\" file into the main dataset. This is a dataset that records travel assignments with three key columns: ASSN, TDATE, and day_name. Each row represents a unique assignment (indicated by ASSN) associated with a specific date (TDATE), formatted as YYYY-MM-DD, and the corresponding day of the week (day_name)."
   ]
  },
  {
   "cell_type": "code",
   "execution_count": 8,
   "metadata": {},
   "outputs": [
    {
     "data": {
      "text/html": [
       "<div>\n",
       "<style scoped>\n",
       "    .dataframe tbody tr th:only-of-type {\n",
       "        vertical-align: middle;\n",
       "    }\n",
       "\n",
       "    .dataframe tbody tr th {\n",
       "        vertical-align: top;\n",
       "    }\n",
       "\n",
       "    .dataframe thead th {\n",
       "        text-align: right;\n",
       "    }\n",
       "</style>\n",
       "<table border=\"1\" class=\"dataframe\">\n",
       "  <thead>\n",
       "    <tr style=\"text-align: right;\">\n",
       "      <th></th>\n",
       "      <th>ASSN</th>\n",
       "      <th>TDATE</th>\n",
       "      <th>day_name</th>\n",
       "    </tr>\n",
       "  </thead>\n",
       "  <tbody>\n",
       "    <tr>\n",
       "      <th>0</th>\n",
       "      <td>101</td>\n",
       "      <td>2009-01-01</td>\n",
       "      <td>Thursday</td>\n",
       "    </tr>\n",
       "    <tr>\n",
       "      <th>1</th>\n",
       "      <td>102</td>\n",
       "      <td>2009-01-02</td>\n",
       "      <td>Friday</td>\n",
       "    </tr>\n",
       "    <tr>\n",
       "      <th>2</th>\n",
       "      <td>105</td>\n",
       "      <td>2009-01-05</td>\n",
       "      <td>Monday</td>\n",
       "    </tr>\n",
       "    <tr>\n",
       "      <th>3</th>\n",
       "      <td>106</td>\n",
       "      <td>2009-01-06</td>\n",
       "      <td>Tuesday</td>\n",
       "    </tr>\n",
       "    <tr>\n",
       "      <th>4</th>\n",
       "      <td>107</td>\n",
       "      <td>2009-01-07</td>\n",
       "      <td>Wednesday</td>\n",
       "    </tr>\n",
       "  </tbody>\n",
       "</table>\n",
       "</div>"
      ],
      "text/plain": [
       "   ASSN       TDATE   day_name\n",
       "0   101  2009-01-01   Thursday\n",
       "1   102  2009-01-02     Friday\n",
       "2   105  2009-01-05     Monday\n",
       "3   106  2009-01-06    Tuesday\n",
       "4   107  2009-01-07  Wednesday"
      ]
     },
     "execution_count": 8,
     "metadata": {},
     "output_type": "execute_result"
    }
   ],
   "source": [
    "assn_date = pd.read_csv('ASSN_TravelDate.csv')\n",
    "assn_date.head()"
   ]
  },
  {
   "cell_type": "markdown",
   "metadata": {},
   "source": [
    "The full dataset includes a column named “ASSN” with unique values, which can be used as a key to merge date and time information for future temporal analysis."
   ]
  },
  {
   "cell_type": "code",
   "execution_count": 9,
   "metadata": {},
   "outputs": [
    {
     "name": "stdout",
     "output_type": "stream",
     "text": [
      "Unique values (first 10): [   nan 12622. 12633. 12792. 12719. 13111. 12625. 12628. 12685. 12643.]\n"
     ]
    }
   ],
   "source": [
    "unique_values = mod_df['ASSN'].unique()\n",
    "print(\"Unique values (first 10):\", unique_values[:10])"
   ]
  },
  {
   "cell_type": "code",
   "execution_count": 10,
   "metadata": {},
   "outputs": [
    {
     "name": "stdout",
     "output_type": "stream",
     "text": [
      "'TDATE' is in date-time format: False\n"
     ]
    }
   ],
   "source": [
    "mod_df_with_dates = mod_df.merge(assn_date[['ASSN', 'TDATE', 'day_name']], on='ASSN', how='left')\n",
    "\n",
    "# Check if 'TDATE' is in a date-time format\n",
    "is_datetime = pd.api.types.is_datetime64_any_dtype(mod_df_with_dates['TDATE'])\n",
    "print(f\"'TDATE' is in date-time format: {is_datetime}\")"
   ]
  },
  {
   "cell_type": "code",
   "execution_count": 11,
   "metadata": {},
   "outputs": [
    {
     "name": "stdout",
     "output_type": "stream",
     "text": [
      "Total number of trips with date recorded: 84860\n"
     ]
    }
   ],
   "source": [
    "# Count non-empty (non-null) values in 'TDATE'\n",
    "non_empty_tdate_count = mod_df_with_dates['TDATE'].notnull().sum()\n",
    "print(f\"Total number of trips with date recorded: {non_empty_tdate_count}\")"
   ]
  },
  {
   "cell_type": "markdown",
   "metadata": {},
   "source": [
    "This is reasonable, as the full dataframe consolidates information from multiple sources, including personal and vehicle data. Therefore, it’s expected that not every row will be trip-related or contain trip dates."
   ]
  },
  {
   "cell_type": "code",
   "execution_count": 12,
   "metadata": {},
   "outputs": [
    {
     "data": {
      "image/png": "[encoded data removed]",
      "text/plain": [
       "<Figure size 1000x600 with 1 Axes>"
      ]
     },
     "metadata": {},
     "output_type": "display_data"
    }
   ],
   "source": [
    "# Convert to date-time\n",
    "mod_df_with_dates['TDATE'] = pd.to_datetime(mod_df_with_dates['TDATE'], errors='coerce')\n",
    "\n",
    "# Drop rows with NaT in 'TDATE' to focus on valid dates\n",
    "valid_dates = mod_df_with_dates.dropna(subset=['TDATE'])\n",
    "\n",
    "# Plot the distribution of 'TDATE' as a histogram\n",
    "plt.figure(figsize=(10, 6))\n",
    "plt.hist(valid_dates['TDATE'], bins=30, color='skyblue', edgecolor='black')\n",
    "plt.title('Distribution of Dates')\n",
    "plt.xlabel('Date')\n",
    "plt.ylabel('Frequency')\n",
    "plt.xticks(rotation=45)\n",
    "plt.tight_layout()\n",
    "plt.show()"
   ]
  },
  {
   "cell_type": "markdown",
   "metadata": {},
   "source": [
    "# Identify Students & Workers in the Dataset"
   ]
  },
  {
   "cell_type": "code",
   "execution_count": 13,
   "metadata": {},
   "outputs": [],
   "source": [
    "# Load the CSV file, convert the '0' column to integers, and sort the list\n",
    "sample_numbers_df = pd.read_csv('studentworkerSAMPN.csv')\n",
    "sample_numbers_list = sample_numbers_df['0'].astype(int).tolist()\n",
    "sample_numbers_list.sort()  # Sort the list in ascending order\n",
    "\n",
    "# Ensure the SAMPN column in full_df is also converted to integers\n",
    "full_df['SAMPN'] = full_df['SAMPN'].astype(int)\n",
    "\n",
    "# Filter rows where SAMPN matches the sample numbers\n",
    "df_work_stu = full_df[full_df['SAMPN'].isin(sample_numbers_list)]\n",
    "\n",
    "# Sort the filtered DataFrame by the SAMPN column in ascending order\n",
    "df_work_stu = df_work_stu.sort_values(by='SAMPN', ascending=True)"
   ]
  },
  {
   "cell_type": "code",
   "execution_count": 14,
   "metadata": {},
   "outputs": [
    {
     "name": "stdout",
     "output_type": "stream",
     "text": [
      "First 5 values in sample_numbers_list: [1032036, 1032053, 1032425, 1033586, 1033944]\n",
      "Last 5 values in sample_numbers_list: [7212027, 7212128, 7212273, 7212324, 7212388]\n"
     ]
    }
   ],
   "source": [
    "# Verify Results\n",
    "print(\"First 5 values in sample_numbers_list:\", sample_numbers_list[:5])\n",
    "print(\"Last 5 values in sample_numbers_list:\", sample_numbers_list[-5:])"
   ]
  },
  {
   "cell_type": "code",
   "execution_count": 15,
   "metadata": {},
   "outputs": [
    {
     "name": "stdout",
     "output_type": "stream",
     "text": [
      "First 5 unique values in SAMPN: [1032036, 1032053, 1032425, 1033586, 1033944]\n",
      "Last 5 unique values in SAMPN: [7212027, 7212128, 7212273, 7212324, 7212388]\n"
     ]
    }
   ],
   "source": [
    "# Get the unique values in the SAMPN column and sort them\n",
    "unique_values = sorted(df_work_stu['SAMPN'].unique())\n",
    "\n",
    "# Display the first 5 unique values\n",
    "print(\"First 5 unique values in SAMPN:\", unique_values[:5])\n",
    "\n",
    "# Display the last 5 unique values\n",
    "print(\"Last 5 unique values in SAMPN:\", unique_values[-5:])"
   ]
  },
  {
   "cell_type": "code",
   "execution_count": 16,
   "metadata": {},
   "outputs": [],
   "source": [
    "df_work_stu.to_csv('workers_students_data.csv')"
   ]
  },
  {
   "cell_type": "markdown",
   "metadata": {},
   "source": [
    "# Data Extraction for API Merging"
   ]
  },
  {
   "cell_type": "code",
   "execution_count": 17,
   "metadata": {},
   "outputs": [
    {
     "name": "stdout",
     "output_type": "stream",
     "text": [
      "Date range: 2012-02-01 00:00:00 to 2013-01-31 00:00:00\n"
     ]
    }
   ],
   "source": [
    "# Calculate the range of dates\n",
    "min_date = mod_df_with_dates['TDATE'].min()\n",
    "max_date = mod_df_with_dates['TDATE'].max()\n",
    "\n",
    "# Display the date range\n",
    "print(\"Date range:\", min_date, \"to\", max_date)"
   ]
  },
  {
   "cell_type": "code",
   "execution_count": 18,
   "metadata": {},
   "outputs": [
    {
     "name": "stdout",
     "output_type": "stream",
     "text": [
      "       SAMPN  PERNO    ZIP PREVZIP  HZIP LDOZIP LDDZIP WZIP  WZIP2 SZIP\n",
      "0  1031985.0    1.0  94591     NaN   NaN    NaN    NaN  NaN    NaN  NaN\n",
      "1  1031985.0    1.0  94510     NaN   NaN    NaN    NaN  NaN    NaN  NaN\n",
      "2  1031985.0    1.0  94591     NaN   NaN    NaN    NaN  NaN    NaN  NaN\n",
      "3  1031985.0    2.0  94591     NaN   NaN    NaN    NaN  NaN    NaN  NaN\n",
      "4  1031985.0    2.0  94589     NaN   NaN    NaN    NaN  NaN    NaN  NaN\n"
     ]
    }
   ],
   "source": [
    "# Select 'SAMPN', 'PERNO', and any column containing 'ZIP' in its name\n",
    "zip_columns = [col for col in mod_df_with_dates.columns if 'ZIP' in col]\n",
    "selected_columns = ['SAMPN', 'PERNO'] + zip_columns\n",
    "\n",
    "# Create a new DataFrame with the selected columns\n",
    "df_zip_data = mod_df_with_dates[selected_columns]\n",
    "\n",
    "# Display the new DataFrame\n",
    "print(df_zip_data.head())\n"
   ]
  },
  {
   "cell_type": "code",
   "execution_count": 19,
   "metadata": {},
   "outputs": [
    {
     "name": "stdout",
     "output_type": "stream",
     "text": [
      "SAMPN       0.000000\n",
      "PERNO      16.500559\n",
      "ZIP        67.255493\n",
      "PREVZIP    98.658715\n",
      "HZIP       93.966068\n",
      "LDOZIP     95.151282\n",
      "LDDZIP     95.151282\n",
      "WZIP       96.934684\n",
      "WZIP2      99.806245\n",
      "SZIP       98.191143\n",
      "dtype: float64\n"
     ]
    }
   ],
   "source": [
    "missing_percentage = df_zip_data.isna().mean() * 100\n",
    "\n",
    "# Display the result\n",
    "print(missing_percentage)"
   ]
  },
  {
   "cell_type": "code",
   "execution_count": 20,
   "metadata": {},
   "outputs": [
    {
     "name": "stdout",
     "output_type": "stream",
     "text": [
      "Number of rows with non-unique ZIP codes: 8260\n"
     ]
    }
   ],
   "source": [
    "# Select only the ZIP code columns\n",
    "zip_columns = ['ZIP', 'PREVZIP', 'HZIP', 'LDOZIP', 'LDDZIP', 'WZIP', 'WZIP2', 'SZIP']\n",
    "\n",
    "# Count unique ZIP codes across each row\n",
    "unique_zip_counts = df_zip_data[zip_columns].nunique(axis=1)\n",
    "\n",
    "# Count non-NaN values across each row\n",
    "non_nan_counts = df_zip_data[zip_columns].notna().sum(axis=1)\n",
    "\n",
    "# Check if each row has unique ZIP codes by comparing unique count with non-NaN count\n",
    "df_zip_data['UniqueZIPs'] = unique_zip_counts == non_nan_counts\n",
    "\n",
    "# Count rows where ZIP codes are not unique\n",
    "non_unique_count = (~df_zip_data['UniqueZIPs']).sum()\n",
    "\n",
    "# Display the result\n",
    "print(\"Number of rows with non-unique ZIP codes:\", non_unique_count)"
   ]
  },
  {
   "cell_type": "code",
   "execution_count": 21,
   "metadata": {},
   "outputs": [
    {
     "name": "stdout",
     "output_type": "stream",
     "text": [
      "Unique cities with assigned dates: ['VALLEJO' 'SAN DIEGO' 'MERCED' ... 'HAWKINS BAR' 'ZENIA' 'HYAMPOM']\n",
      "Unique states with assigned dates: ['CA' 'HI' 'OR']\n",
      "Total unique cities with assigned dates: 1125\n",
      "Total unique states with assigned dates: 3\n"
     ]
    }
   ],
   "source": [
    "# Filter rows where 'TDATE' has a non-null value\n",
    "dated_entries = mod_df_with_dates[mod_df_with_dates['TDATE'].notna()]\n",
    "\n",
    "# Get unique values for cities and states\n",
    "unique_cities = dated_entries['HCITY'].unique()\n",
    "unique_states = dated_entries['HSTAT'].unique()\n",
    "\n",
    "print(\"Unique cities with assigned dates:\", unique_cities)\n",
    "print(\"Unique states with assigned dates:\", unique_states)\n",
    "\n",
    "# Check the counts as well if needed\n",
    "print(\"Total unique cities with assigned dates:\", len(unique_cities))\n",
    "print(\"Total unique states with assigned dates:\", len(unique_states))"
   ]
  },
  {
   "cell_type": "code",
   "execution_count": null,
   "metadata": {},
   "outputs": [
    {
     "name": "stdout",
     "output_type": "stream",
     "text": [
      "(53000, 258)\n",
      "(84860, 258)\n"
     ]
    }
   ],
   "source": [
    "# Ensure ZIP codes are in string format to use prefix matching\n",
    "dated_entries['HZIP'] = dated_entries['HZIP'].astype(str)\n",
    "\n",
    "# Define ZIP code prefixes for California regions\n",
    "zip_prefixes = {\n",
    "    'Los Angeles': ['900', '901', '902', '903', '904', '905', '906', '907', '908'],\n",
    "    'Pasadena': ['910', '911', '912', '913', '914', '915', '916', '917', '918'],\n",
    "    'San Diego': ['919', '920', '921'],\n",
    "    'Orange County': ['926', '927'],\n",
    "    'San Francisco Bay Area': ['940', '941', '942', '943', '944', '945', '946', '947', '948', '949'],\n",
    "    'San Jose': ['950', '951'],\n",
    "    'Stockton': ['952'],\n",
    "    'Sacramento': ['956', '957', '958']\n",
    "}\n",
    "\n",
    "# Combine all ZIP prefixes for easier filtering\n",
    "all_prefixes = sum(zip_prefixes.values(), [])\n",
    "\n",
    "# Filter the dated_entries DataFrame for entries with matching ZIP prefixes\n",
    "filtered_dated_entries = dated_entries[dated_entries['HZIP'].str[:3].isin(all_prefixes)]\n",
    "print(filtered_dated_entries.shape)\n",
    "print(dated_entries.shape)"
   ]
  }
 ],
 "metadata": {
  "kernelspec": {
   "display_name": "Python 3",
   "language": "python",
   "name": "python3"
  },
  "language_info": {
   "codemirror_mode": {
    "name": "ipython",
    "version": 3
   },
   "file_extension": ".py",
   "mimetype": "text/x-python",
   "name": "python",
   "nbconvert_exporter": "python",
   "pygments_lexer": "ipython3",
   "version": "3.11.5"
  }
 },
 "nbformat": 4,
 "nbformat_minor": 2
}
